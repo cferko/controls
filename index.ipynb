{
 "cells": [
  {
   "cell_type": "markdown",
   "metadata": {},
   "source": [
    "## Controls Research\n",
    "\n",
    "This is the console you will use to develop a control scheme for your ship subsystems.\n",
    "To execute code, click inside of a cell and shift Shift+Enter."
   ]
  },
  {
   "cell_type": "markdown",
   "metadata": {},
   "source": [
    "### Challenge 1. Develop a Warning System.\n",
    "\n",
    "Our ship will be equipped with short-range sensors which detect the distance, in kilometers, of large objects that pose a danger to the craft. This device has a range of 10 kilometers. \n",
    "\n",
    "You are tasked with programming a warning system which reacts to key events in the data fed to you by the sensor. Assume the sensor returns one number every second: the distance from the ship to the most significant feature in space that may pose a danger. Your task is to filter the results such that significant results are reported. Specifically, you must develop a function which:\n",
    "\n",
    "1) Takes a vector of any length as input. This is the test sensor data taken over a previous time interval.\n",
    "\n",
    "2) Scans the data for groups of three numbers which are all within 10% of each other. For each group of such numbers, the function prints the index of the first member of the group and the mean of the group. \n",
    "\n",
    "3) Of the groups found in step (2), records each triplet as its own entry in a running log and prints the total count of all such events at the end of the function call.\n",
    "\n",
    "4) BONUS POINT: The function should, at the end, output a sorted array of the means of each of the groups found in step (2), along with their indices in the original data vector."
   ]
  },
  {
   "cell_type": "code",
   "execution_count": null,
   "metadata": {
    "collapsed": false,
    "scrolled": true
   },
   "outputs": [],
   "source": [
    "import numpy as np\n",
    "import random\n",
    "random.seed('JTTALKS') # makes sure everything is repeatable.\n",
    "\n",
    "data = np.random.uniform(1,10,5000) # generate a list of 5,000 data points for this project.\n",
    "print data[:10] # print the first 10 data points\n",
    "\n",
    "def warningSystem(data):\n",
    "    \n",
    "    # find each group of three consecutive numbers within 10% of each other\n",
    "    output_vector = []\n",
    "    \n",
    "    for i in range(len(data)-2):\n",
    "        # get each relevant group of 3 data points\n",
    "    \n",
    "    # for each group:\n",
    "        # print 'The index is: ', index\n",
    "        # print 'The mean is: ', mean\n",
    "    \n",
    "    return output_vector\n",
    "\n",
    "# call the function:\n",
    "warningSystem(data)"
   ]
  },
  {
   "cell_type": "markdown",
   "metadata": {},
   "source": [
    "### Challenge 2. Alien Language Processing.\n",
    "\n",
    "Consider the following Alien language sample, rendered in English by our AI:\n",
    "\n",
    "\"Tlqo qo gqhhwjqol. Q ru put apui ilct Q icpt tu ocs. Hyt tlqo qo c dwjsdwjs fupg zcjcgjczl. Guur fyma tjsqpg tu yprwjotcpr ilct Q ck ocsqpg. Uyj zwuzfw iqff jwzwct tlqo udwj cpr udwj cgcqp. Zuwtjs cpr otybb qo put uyj otjupg oyqt. Omqwpmw cpr wpgqpwwjqpg cjw qkzujtcpt.\"\n",
    "\n",
    "Your task will be to gather some information on this language for comparison to our Earthen languages. Your tasks here are:\n",
    "\n",
    "1) Write a function that takes paragraphs like the one above, in string format, as input. \n",
    "\n",
    "2) Prints a count of the number of words and sentences in the paragraph. Assume that all sentences end with a \".\". The function also prints a count of the numbers of 2-, 3-, 4-, and 5-letter words. \n",
    "\n",
    "3) Prints the average distance in character count between consecutive words for each sentence and for the paragraph as a whole. In the previous sentence, this is: (2+4+1+6+7+4+2+4+6)/10.\n",
    "\n",
    "4) BONUS POINT: Output a histogram of word lengths. That is, output an object that records the count of every different word length. This may best be achieved by using a dictionary object."
   ]
  },
  {
   "cell_type": "code",
   "execution_count": null,
   "metadata": {
    "collapsed": false
   },
   "outputs": [],
   "source": [
    "import numpy as np\n",
    "import random\n",
    "random.seed('JTTALKS') # makes sure everything is repeatable.\n",
    "\n",
    "para = \"Tlqo qo gqhhwjqol. Q ru put apui ilct Q icpt tu ocs. Hyt tlqo qo c dwjsdwjs fupg zcjcgjczl. \\\n",
    "Guur fyma tjsqpg tu yprwjotcpr ilct Q ck ocsqpg. Uyj zwuzfw iqff jwzwct tlqo udwj cpr udwj cgcqp. \\\n",
    "Zuwtjs cpr otybb qo put uyj otjupg oyqt. Omqwpmw cpr wpgqpwwjqpg cjw qkzujtcpt.\" \n",
    "print data[:10] # print the first 10 data points\n",
    "\n",
    "def langProcessing(para):\n",
    "    # write function here\n",
    "    \n",
    "# call function\n",
    "langProcessing(para)"
   ]
  },
  {
   "cell_type": "markdown",
   "metadata": {},
   "source": [
    "### Challenge 3. Orbital Scanners.\n",
    "\n",
    "For this challenge, you will be given a 400 by 400-point array, representing the concentration of a valuable mineral on a section of a planet you are orbiting. Your challenge will be to write a function that does the following:\n",
    "\n",
    "1) Takes the array as input. Calculates the average concentration over the entire array.\n",
    "\n",
    "2) Scans each 10 by 10 \"sector\", and for each records the total concentration, which is simply the sum of all points in the sector.\n",
    "\n",
    "3) Records and prints the top-left index (x and y) of any sector whose total concentration exceeds the average for the entire scanned area.\n",
    "\n",
    "4) For each sector identified in step (3), records the index (x and y) of the maximum concentration point in that sector.\n",
    "\n",
    "5) BONUS POINT: Output a dictionary object that has, for keys, the index of the top-left point of all sectors identified in step (3), and for contents an array of the indexes and concentrations of each point in the sector, in descending order by concentration. "
   ]
  },
  {
   "cell_type": "code",
   "execution_count": null,
   "metadata": {
    "collapsed": false
   },
   "outputs": [],
   "source": [
    "import numpy as np\n",
    "import random\n",
    "random.seed('JTTALKS') # makes sure everything is repeatable.\n",
    "\n",
    "grid = np.random.uniform(0,1,(400,400)) # generate the data\n",
    "print grid[1][2]\n",
    "\n",
    "def orbitalScan(grid):\n",
    "    \n",
    "    # function goes here...\n",
    "    alldata = []\n",
    "    for i in range(400):\n",
    "        for j in range(400):\n",
    "            alldata.append(grid[i][j])\n",
    "    print np.average(alldata)\n",
    "    \n",
    "    \n",
    "    \n",
    "    return\n",
    "\n",
    "# call function:\n",
    "orbitalScan(grid)"
   ]
  },
  {
   "cell_type": "code",
   "execution_count": null,
   "metadata": {
    "collapsed": true
   },
   "outputs": [],
   "source": []
  }
 ],
 "metadata": {
  "kernelspec": {
   "display_name": "Python 2",
   "language": "python",
   "name": "python2"
  },
  "language_info": {
   "codemirror_mode": {
    "name": "ipython",
    "version": 2
   },
   "file_extension": ".py",
   "mimetype": "text/x-python",
   "name": "python",
   "nbconvert_exporter": "python",
   "pygments_lexer": "ipython2",
   "version": "2.7.11"
  }
 },
 "nbformat": 4,
 "nbformat_minor": 0
}
